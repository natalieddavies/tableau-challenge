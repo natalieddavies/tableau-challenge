{
 "cells": [
  {
   "cell_type": "code",
   "execution_count": 6,
   "metadata": {},
   "outputs": [],
   "source": [
    "import pandas as pd\n",
    "import numpy as np"
   ]
  },
  {
   "cell_type": "code",
   "execution_count": 7,
   "metadata": {},
   "outputs": [],
   "source": [
    "# IMPORT FILES\n",
    "jan_path = \"datasets/JC-202001-citibike-tripdata.csv\"\n",
    "feb_path = \"datasets/JC-202002-citibike-tripdata.csv\"\n",
    "march_path = \"datasets/JC-202003-citibike-tripdata.csv\"\n",
    "april_path = \"datasets/JC-202004-citibike-tripdata.csv\"\n",
    "may_path = \"datasets/JC-202005-citibike-tripdata.csv\"\n",
    "june_path = \"datasets/JC-202006-citibike-tripdata.csv\"\n",
    "july_path = \"datasets/JC-202007-citibike-tripdata.csv\"\n",
    "aug_path = \"datasets/JC-202008-citibike-tripdata.csv\"\n",
    "sept_path = \"datasets/JC-202009-citibike-tripdata.csv\"\n",
    "\n",
    "# READ FILES\n",
    "jan = pd.read_csv(jan_path)\n",
    "feb = pd.read_csv(feb_path)\n",
    "march = pd.read_csv(march_path)\n",
    "april = pd.read_csv(april_path)\n",
    "may = pd.read_csv(may_path)\n",
    "june = pd.read_csv(june_path)\n",
    "july = pd.read_csv(july_path)\n",
    "aug = pd.read_csv(aug_path)\n",
    "sept = pd.read_csv(sept_path)"
   ]
  },
  {
   "cell_type": "code",
   "execution_count": 12,
   "metadata": {},
   "outputs": [
    {
     "ename": "SyntaxError",
     "evalue": "can't assign to literal (<ipython-input-12-493dd556586e>, line 1)",
     "output_type": "error",
     "traceback": [
      "\u001b[1;36m  File \u001b[1;32m\"<ipython-input-12-493dd556586e>\"\u001b[1;36m, line \u001b[1;32m1\u001b[0m\n\u001b[1;33m    2020 = ([jan, feb, march])\u001b[0m\n\u001b[1;37m                              ^\u001b[0m\n\u001b[1;31mSyntaxError\u001b[0m\u001b[1;31m:\u001b[0m can't assign to literal\n"
     ]
    }
   ],
   "source": [
    "2020 = [jan, feb, march, april, may, june, july, aug, sept]\n",
    "result = pd.concat(2020)"
   ]
  },
  {
   "cell_type": "code",
   "execution_count": null,
   "metadata": {},
   "outputs": [],
   "source": []
  }
 ],
 "metadata": {
  "kernelspec": {
   "display_name": "Python 3",
   "language": "python",
   "name": "python3"
  },
  "language_info": {
   "codemirror_mode": {
    "name": "ipython",
    "version": 3
   },
   "file_extension": ".py",
   "mimetype": "text/x-python",
   "name": "python",
   "nbconvert_exporter": "python",
   "pygments_lexer": "ipython3",
   "version": "3.7.6"
  }
 },
 "nbformat": 4,
 "nbformat_minor": 4
}
